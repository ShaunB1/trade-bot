{
 "cells": [
  {
   "cell_type": "code",
   "execution_count": 8,
   "metadata": {},
   "outputs": [
    {
     "name": "stderr",
     "output_type": "stream",
     "text": [
      "[*********************100%%**********************]  1 of 1 completed\n"
     ]
    },
    {
     "data": {
      "text/html": [
       "<div>\n",
       "<style scoped>\n",
       "    .dataframe tbody tr th:only-of-type {\n",
       "        vertical-align: middle;\n",
       "    }\n",
       "\n",
       "    .dataframe tbody tr th {\n",
       "        vertical-align: top;\n",
       "    }\n",
       "\n",
       "    .dataframe thead th {\n",
       "        text-align: right;\n",
       "    }\n",
       "</style>\n",
       "<table border=\"1\" class=\"dataframe\">\n",
       "  <thead>\n",
       "    <tr style=\"text-align: right;\">\n",
       "      <th></th>\n",
       "      <th>Open</th>\n",
       "      <th>High</th>\n",
       "      <th>Low</th>\n",
       "      <th>Close</th>\n",
       "      <th>Adj Close</th>\n",
       "      <th>Volume</th>\n",
       "    </tr>\n",
       "    <tr>\n",
       "      <th>Datetime</th>\n",
       "      <th></th>\n",
       "      <th></th>\n",
       "      <th></th>\n",
       "      <th></th>\n",
       "      <th></th>\n",
       "      <th></th>\n",
       "    </tr>\n",
       "  </thead>\n",
       "  <tbody>\n",
       "    <tr>\n",
       "      <th>2024-02-23 22:15:00</th>\n",
       "      <td>1.082251</td>\n",
       "      <td>1.082251</td>\n",
       "      <td>1.082251</td>\n",
       "      <td>1.082251</td>\n",
       "      <td>1.082251</td>\n",
       "      <td>0</td>\n",
       "    </tr>\n",
       "  </tbody>\n",
       "</table>\n",
       "</div>"
      ],
      "text/plain": [
       "                         Open      High       Low     Close  Adj Close  Volume\n",
       "Datetime                                                                      \n",
       "2024-02-23 22:15:00  1.082251  1.082251  1.082251  1.082251   1.082251       0"
      ]
     },
     "execution_count": 8,
     "metadata": {},
     "output_type": "execute_result"
    }
   ],
   "source": [
    "import yfinance as yf\n",
    "import pandas as pd\n",
    "\n",
    "dataF = yf.download(\"EURUSD=X\", start=\"2024-01-1\", end=\"2024-02-26\", interval=\"15m\")\n",
    "dataF.iloc[-1:,:]"
   ]
  },
  {
   "cell_type": "code",
   "execution_count": 9,
   "metadata": {},
   "outputs": [],
   "source": [
    "def signal_generator(df):\n",
    "    open = df.Open.iloc[-1]\n",
    "    close = df.Close.iloc[-1]\n",
    "    previous_open = df.Open.iloc[-2]\n",
    "    previous_close = df.Close.iloc[-2]\n",
    "    \n",
    "    # Bearish Pattern\n",
    "    if (open > close and previous_open < previous_close and\n",
    "        close < previous_open and open >= previous_close):\n",
    "        return 1\n",
    "    \n",
    "    # Bullish Pattern\n",
    "    elif (open < close and previous_open > previous_close\n",
    "          and close > previous_open and open <= previous_close):\n",
    "        return 2\n",
    "\n",
    "    # No Clear Pattern\n",
    "    else:\n",
    "        return 0"
   ]
  },
  {
   "cell_type": "code",
   "execution_count": 10,
   "metadata": {},
   "outputs": [],
   "source": [
    "signal = []\n",
    "signal.append(0)\n",
    "\n",
    "for i in range(1, len(dataF)):\n",
    "    df = dataF[i-1:i+1]\n",
    "    signal.append(signal_generator(df))\n",
    "\n",
    "# sinal_generator(data)\n",
    "dataF[\"signal\"] = signal"
   ]
  },
  {
   "cell_type": "code",
   "execution_count": 11,
   "metadata": {},
   "outputs": [
    {
     "data": {
      "text/plain": [
       "signal\n",
       "0    3429\n",
       "2     143\n",
       "1     142\n",
       "Name: count, dtype: int64"
      ]
     },
     "execution_count": 11,
     "metadata": {},
     "output_type": "execute_result"
    }
   ],
   "source": [
    "dataF.signal.value_counts()\n",
    "# dataF.iloc[:, :]"
   ]
  },
  {
   "cell_type": "markdown",
   "metadata": {},
   "source": [
    "# 3 - Connect to the market and execute trades"
   ]
  },
  {
   "cell_type": "code",
   "execution_count": 12,
   "metadata": {},
   "outputs": [],
   "source": [
    "import oandapyV20.endpoints.orders as orders\n",
    "from apscheduler.schedulers.blocking import BlockingScheduler\n",
    "from oandapyV20 import API\n",
    "from oandapyV20.contrib.requests import MarketOrderRequest\n",
    "from oanda_candles import Pair, Gran, CandleCollector, CandleClient\n",
    "from oandapyV20.contrib.requests import TakeProfitDetails, StopLossDetails"
   ]
  },
  {
   "cell_type": "code",
   "execution_count": 13,
   "metadata": {},
   "outputs": [
    {
     "name": "stdout",
     "output_type": "stream",
     "text": [
      "True\n",
      "True\n",
      "True\n"
     ]
    }
   ],
   "source": [
    "import os\n",
    "from dotenv import load_dotenv\n",
    "\n",
    "load_dotenv()\n",
    "\n",
    "access_token = os.getenv(\"ACCESS_TOKEN\")\n",
    "account_id = os.getenv(\"ACCOUNT_ID\")\n",
    "\n",
    "def get_candles(n):\n",
    "    client = CandleClient(access_token, real=False)\n",
    "    collector = client.get_collector(Pair.EUR_USD, Gran.M15)\n",
    "    candles = collector.grab(n)\n",
    "    return candles\n",
    "    \n",
    "candles = get_candles(3)\n",
    "\n",
    "for candle in candles:\n",
    "    print(float(str(candle.bid.o)) > 1)\n",
    "    "
   ]
  },
  {
   "cell_type": "code",
   "execution_count": 15,
   "metadata": {},
   "outputs": [],
   "source": [
    "import pandas as pd\n",
    "\n",
    "def trading_job():\n",
    "    candles = get_candles(3)\n",
    "    dfstream = pd.DataFrame(columns=[\"Open\", \"Close\", \"High\", \"Low\"])\n",
    "    i = 0\n",
    "    \n",
    "    for candle in candles:\n",
    "        dfstream.loc[i, [\"Open\"]] = float(str(candle.bid.o))\n",
    "        dfstream.loc[i, [\"Close\"]] = float(str(candle.bid.c))\n",
    "        dfstream.loc[i, [\"High\"]] = float(str(candle.bid.h))\n",
    "        dfstream.loc[i, [\"Low\"]] = float(str(candle.bid.l))\n",
    "        i = i + 1\n",
    "    \n",
    "    dfstream.loc[i, [\"Open\"]] = dfstream[\"Open\"].astype(float)\n",
    "    dfstream.loc[i, [\"Close\"]] = dfstream[\"Close\"].astype(float)\n",
    "    dfstream.loc[i, [\"High\"]] = dfstream[\"High\"].astype(float)\n",
    "    dfstream.loc[i, [\"Low\"]] = dfstream[\"Low\"].astype(float)\n",
    "    \n",
    "    signal = signal_generator(dfstream.iloc[:-1,:])\n",
    "    client = API(access_token)\n",
    "    SLTPRatio = 2.\n",
    "    previous_candleR = abs(dfstream[\"High\"].iloc[-2] - dfstream[\"Low\"].iloc[-2])\n",
    "    \n",
    "    SLBuy = float(str(candle.bid.o)) - previous_candleR\n",
    "    SLSell = float(str(candle.bid.o)) + previous_candleR\n",
    "    \n",
    "    TPBuy = float(str(candle.bid.o)) + previous_candleR * SLTPRatio\n",
    "    TPSell = float(str(candle.bid.o)) - previous_candleR * SLTPRatio\n",
    "    \n",
    "    print(dfstream.iloc[:-1,:])\n",
    "    print(TPBuy, \" \", SLBuy, \" \", TPSell, \" \", SLSell)\n",
    "    \n",
    "    # Sell\n",
    "    if signal == 1:\n",
    "        mo = MarketOrderRequest(instrument=\"EUR_USD\", units=-1000, takeProfitOnFill=TakeProfitDetails(price=TPSell).data, stopLossOnFill=StopLossDetails(price=SLSell).data)\n",
    "        r = orders.OrderCreate(account_id, data=mo.data)\n",
    "        rv = client.request(r)\n",
    "        print(rv)\n",
    "        \n",
    "    #Buy\n",
    "    elif signal == 2:\n",
    "        mo = MarketOrderRequest(instrument=\"EUR_USD\", units=1000, takeProfitOnFill=TakeProfitDetails(price=TPBuy).data, stopLossOnFill=StopLossDetails(price=SLBuy).data)\n",
    "        r = orders.OrderCreate(account_id, data=mo.data)\n",
    "        rv = client.request(r)\n",
    "        print(rv)"
   ]
  },
  {
   "cell_type": "markdown",
   "metadata": {},
   "source": [
    "# 4 - Executing orders automatically with a scheduler"
   ]
  },
  {
   "cell_type": "code",
   "execution_count": null,
   "metadata": {},
   "outputs": [],
   "source": [
    "# trading_job()\n",
    "\n",
    "scheduler = BlockingScheduler()\n",
    "scheduler.add_job(trading_job, 'cron', day_of_week='mon-fri', hour='00-23', minute='1,16,31,46', start_date='2024-02-26 12:00:00', timezone='America/Chicago')\n",
    "scheduler.start()"
   ]
  },
  {
   "cell_type": "code",
   "execution_count": null,
   "metadata": {},
   "outputs": [],
   "source": []
  }
 ],
 "metadata": {
  "kernelspec": {
   "display_name": "venv",
   "language": "python",
   "name": "python3"
  },
  "language_info": {
   "codemirror_mode": {
    "name": "ipython",
    "version": 3
   },
   "file_extension": ".py",
   "mimetype": "text/x-python",
   "name": "python",
   "nbconvert_exporter": "python",
   "pygments_lexer": "ipython3",
   "version": "3.11.5"
  }
 },
 "nbformat": 4,
 "nbformat_minor": 2
}
